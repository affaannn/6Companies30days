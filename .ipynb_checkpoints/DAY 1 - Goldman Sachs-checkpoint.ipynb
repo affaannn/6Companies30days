{
 "cells": [
  {
   "cell_type": "markdown",
   "id": "ae907ec9",
   "metadata": {},
   "source": [
    "# Max Points on a Line"
   ]
  },
  {
   "cell_type": "code",
   "execution_count": 1,
   "id": "e1e9f973",
   "metadata": {},
   "outputs": [],
   "source": [
    "class Solution:\n",
    "    def maxPoints(self, points):\n",
    "        def calc_slope_interc(p1,p2): \n",
    "            x1,y1 = p1\n",
    "            x2,y2 = p2\n",
    "            if y1==y2:\n",
    "                return 0,y1\n",
    "            if x1==x2: \n",
    "                return None,x1 \n",
    "            \n",
    "            slope = (y2-y1)/(x2-x1)\n",
    "            intercept = y2-slope*x2\n",
    "            \n",
    "            return (slope,intercept)\n",
    "          \n",
    "        if len(points)==1:\n",
    "            return 1\n",
    "        \n",
    "        from collections import defaultdict\n",
    "        tracker = defaultdict(lambda:set())\n",
    "        for i in range(len(points)-1):\n",
    "            for j in range(i+1,len(points)):\n",
    "                p1 = points[i]\n",
    "                p2 = points[j]\n",
    "                \n",
    "                sl_int = calc_slope_interc(p1,p2)\n",
    "                tracker[sl_int].add(i)\n",
    "                tracker[sl_int].add(j)\n",
    "                \n",
    "                \n",
    "        \n",
    "        no_points = [len(v) for k,v in tracker.items()]\n",
    "        return max(no_points)\n",
    "                "
   ]
  },
  {
   "cell_type": "markdown",
   "id": "b84ee793",
   "metadata": {},
   "source": [
    "# Valid Square"
   ]
  },
  {
   "cell_type": "code",
   "execution_count": 2,
   "id": "a25614c7",
   "metadata": {},
   "outputs": [],
   "source": [
    "  def validSquare(self, p1, p2, p3, p4):\n",
    "        if p1==p2==p3==p4:return False\n",
    "        def dist(x,y):\n",
    "            return (x[0]-y[0])**2+(x[1]-y[1])**2\n",
    "        ls=[dist(p1,p2),dist(p1,p3),dist(p1,p4),dist(p2,p3),dist(p2,p4),dist(p3,p4)]\n",
    "        ls.sort()\n",
    "        if ls[0]==ls[1]==ls[2]==ls[3]:\n",
    "            if ls[4]==ls[5]:\n",
    "                return True\n",
    "        return False"
   ]
  },
  {
   "cell_type": "markdown",
   "id": "d3a1224d",
   "metadata": {},
   "source": [
    "# Factorial Trailing Zeroes"
   ]
  },
  {
   "cell_type": "code",
   "execution_count": null,
   "id": "33e93ca2",
   "metadata": {},
   "outputs": [],
   "source": [
    "class Solution(object):\n",
    "    def trailingZeroes(self, n):\n",
    "        fact=1\n",
    "        if n==0 and n==1:\n",
    "            return 0\n",
    "        for i in range(1,n+1):\n",
    "            fact*=i\n",
    "        s=str(fact)[::-1]\n",
    "        count=0\n",
    "        for i in s:\n",
    "            if i==\"0\":\n",
    "                count+=1\n",
    "            else:\n",
    "                break\n",
    "        return count"
   ]
  }
 ],
 "metadata": {
  "kernelspec": {
   "display_name": "Python 3 (ipykernel)",
   "language": "python",
   "name": "python3"
  },
  "language_info": {
   "codemirror_mode": {
    "name": "ipython",
    "version": 3
   },
   "file_extension": ".py",
   "mimetype": "text/x-python",
   "name": "python",
   "nbconvert_exporter": "python",
   "pygments_lexer": "ipython3",
   "version": "3.9.12"
  }
 },
 "nbformat": 4,
 "nbformat_minor": 5
}
