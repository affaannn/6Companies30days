{
 "cells": [
  {
   "cell_type": "markdown",
   "id": "00f15e72",
   "metadata": {},
   "source": [
    "# Reverse Polish Notation"
   ]
  },
  {
   "cell_type": "code",
   "execution_count": null,
   "id": "70ef41a4",
   "metadata": {},
   "outputs": [],
   "source": [
    "def evaluate_expression(tokens):\n",
    "    stack = []\n",
    "    for token in tokens:\n",
    "        if token.isdigit():\n",
    "            stack.append(int(token))\n",
    "        else:\n",
    "            val1 = stack.pop()\n",
    "            val2 = stack.pop()\n",
    "            if token == '+':\n",
    "                stack.append(val1 + val2)\n",
    "            elif token == '-':\n",
    "                stack.append(val1 - val2)\n",
    "            elif token == '*':\n",
    "                stack.append(val1 * val2)\n",
    "            elif token == '/':\n",
    "                stack.append(val1 / val2)\n",
    "\n",
    "\n",
    "    return stack[0]\n"
   ]
  },
  {
   "cell_type": "markdown",
   "id": "3983b0cc",
   "metadata": {},
   "source": [
    "# Combination Sum III"
   ]
  },
  {
   "cell_type": "code",
   "execution_count": null,
   "id": "8205adea",
   "metadata": {},
   "outputs": [],
   "source": [
    "def sum_up_to_n(k, n):\n",
    "    combinations = []\n",
    "    def generate_combinations(start, k, n, current_combination):\n",
    "        if k == 0 and n == 0:\n",
    "            combinations.append(current_combination)\n",
    "            return\n",
    "   \n",
    "        if k == 0 or n < 0:\n",
    "            return\n",
    "    \n",
    "        for i in range(start, 10):\n",
    "            generate_combinations(i+1, k-1, n-i, current_combination + [i])\n",
    "\n",
    "    generate_combinations(1, k, n, [])\n",
    "\n",
    "    return combinations\n",
    "\n",
    "\n"
   ]
  },
  {
   "cell_type": "markdown",
   "id": "09c1b83f",
   "metadata": {},
   "source": [
    "# Bulls and Cows"
   ]
  },
  {
   "cell_type": "code",
   "execution_count": null,
   "id": "9740d22b",
   "metadata": {},
   "outputs": [],
   "source": [
    "def get_hint(secret, guess):\n",
    "    bulls = 0\n",
    "    cows = 0\n",
    "\n",
    "    digit_count = {}\n",
    "    for digit in secret:\n",
    "        if digit in digit_count:\n",
    "            digit_count[digit] += 1\n",
    "        else:\n",
    "            digit_count[digit] = 1\n",
    "\n",
    "    for i in range(len(guess)):\n",
    "        if secret[i] == guess[i]:\n",
    "            bulls += 1\n",
    "            digit_count[guess[i]] -= 1\n",
    "        elif guess[i] in digit_count and digit_count[guess[i]] > 0:\n",
    "            cows += 1\n",
    "            digit_count[guess[i]] -= 1\n",
    "\n",
    "    return str(bulls) + \"A\" + str(cows) + \"B\"\n",
    "\n",
    "\n",
    "\n"
   ]
  }
 ],
 "metadata": {
  "kernelspec": {
   "display_name": "Python 3 (ipykernel)",
   "language": "python",
   "name": "python3"
  },
  "language_info": {
   "codemirror_mode": {
    "name": "ipython",
    "version": 3
   },
   "file_extension": ".py",
   "mimetype": "text/x-python",
   "name": "python",
   "nbconvert_exporter": "python",
   "pygments_lexer": "ipython3",
   "version": "3.9.12"
  }
 },
 "nbformat": 4,
 "nbformat_minor": 5
}
