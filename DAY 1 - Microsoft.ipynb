{
 "cells": [
  {
   "cell_type": "markdown",
   "id": "59894ff4",
   "metadata": {},
   "source": [
    "# Reverse Polish Notation"
   ]
  },
  {
   "cell_type": "code",
   "execution_count": null,
   "id": "7fe9de16",
   "metadata": {},
   "outputs": [],
   "source": [
    "def evaluate_expression(tokens):\n",
    "    stack = []\n",
    "    for token in tokens:\n",
    "        if token.isdigit():\n",
    "            stack.append(int(token))\n",
    "        else:\n",
    "            val1 = stack.pop()\n",
    "            val2 = stack.pop()\n",
    "            if token == '+':\n",
    "                stack.append(val1 + val2)\n",
    "            elif token == '-':\n",
    "                stack.append(val1 - val2)\n",
    "            elif token == '*':\n",
    "                stack.append(val1 * val2)\n",
    "            elif token == '/':\n",
    "                stack.append(val1 / val2)\n",
    "\n",
    "\n",
    "    return stack[0]\n"
   ]
  },
  {
   "cell_type": "markdown",
   "id": "b96a7f97",
   "metadata": {},
   "source": [
    "# Combination Sum III"
   ]
  },
  {
   "cell_type": "code",
   "execution_count": null,
   "id": "aa5b0b7f",
   "metadata": {},
   "outputs": [],
   "source": [
    "def sum_up_to_n(k, n):\n",
    "    combinations = []\n",
    "    # recursive function to generate all combinations\n",
    "    def generate_combinations(start, k, n, current_combination):\n",
    "    # if k is 0 and n is 0, this is a valid combination\n",
    "        if k == 0 and n == 0:\n",
    "            combinations.append(current_combination)\n",
    "            return\n",
    "    \n",
    "    # if k is 0 or n is less than 0, this is not a valid combination\n",
    "        if k == 0 or n < 0:\n",
    "            return\n",
    "    \n",
    "    # iterate through all possible numbers\n",
    "        for i in range(start, 10):\n",
    "        # add the current number to the combination and recursively call the function\n",
    "        # with the next number and updated values for k and n\n",
    "            generate_combinations(i+1, k-1, n-i, current_combination + [i])\n",
    "\n",
    "# call the recursive function with the initial values\n",
    "    generate_combinations(1, k, n, [])\n",
    "\n",
    "    return combinations\n",
    "\n",
    "\n"
   ]
  },
  {
   "cell_type": "markdown",
   "id": "8b8643ad",
   "metadata": {},
   "source": [
    "# Bulls and Cows"
   ]
  },
  {
   "cell_type": "code",
   "execution_count": null,
   "id": "410c357a",
   "metadata": {},
   "outputs": [],
   "source": [
    "def get_hint(secret, guess):\n",
    "    bulls = 0\n",
    "    cows = 0\n",
    "\n",
    "    digit_count = {}\n",
    "    for digit in secret:\n",
    "        if digit in digit_count:\n",
    "            digit_count[digit] += 1\n",
    "        else:\n",
    "            digit_count[digit] = 1\n",
    "\n",
    "    for i in range(len(guess)):\n",
    "    # if the digit is in the correct position\n",
    "        if secret[i] == guess[i]:\n",
    "            bulls += 1\n",
    "            digit_count[guess[i]] -= 1\n",
    "        elif guess[i] in digit_count and digit_count[guess[i]] > 0:\n",
    "            cows += 1\n",
    "            digit_count[guess[i]] -= 1\n",
    "\n",
    "    return str(bulls) + \"A\" + str(cows) + \"B\"\n",
    "\n",
    "\n",
    "\n"
   ]
  }
 ],
 "metadata": {
  "kernelspec": {
   "display_name": "Python 3 (ipykernel)",
   "language": "python",
   "name": "python3"
  },
  "language_info": {
   "codemirror_mode": {
    "name": "ipython",
    "version": 3
   },
   "file_extension": ".py",
   "mimetype": "text/x-python",
   "name": "python",
   "nbconvert_exporter": "python",
   "pygments_lexer": "ipython3",
   "version": "3.9.12"
  }
 },
 "nbformat": 4,
 "nbformat_minor": 5
}
