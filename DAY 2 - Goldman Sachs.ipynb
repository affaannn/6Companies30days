{
 "cells": [
  {
   "cell_type": "markdown",
   "id": "aa1e5730",
   "metadata": {},
   "source": [
    "# Number of Boomerangs"
   ]
  },
  {
   "cell_type": "code",
   "execution_count": 1,
   "id": "7d93c3b0",
   "metadata": {},
   "outputs": [],
   "source": [
    "class Solution(object):\n",
    "    def numberOfBoomerangs(self, points):\n",
    "        n = 0\n",
    "        for i in points:\n",
    "            cmap = {}\n",
    "            for j in points:\n",
    "                f = i[0]-j[0]\n",
    "                s = i[1]-j[1]\n",
    "                cmap[f*f + s*s] = 1 + cmap.get(f*f + s*s, 0)\n",
    "            for k in cmap:\n",
    "                n += cmap[k] * (cmap[k] -1)\n",
    "        return n"
   ]
  },
  {
   "cell_type": "markdown",
   "id": "c9126238",
   "metadata": {},
   "source": [
    "# Split Array into Consecutive Subsequences"
   ]
  },
  {
   "cell_type": "code",
   "execution_count": 1,
   "id": "9ac389d1",
   "metadata": {},
   "outputs": [],
   "source": [
    "class Solution(object):\n",
    "    def isPossible(self,nums):\n",
    "        for i in range(len(nums) - 2):\n",
    "            if nums[i] + 1 == nums[i+1] and nums[i+1] + 1 == nums[i+2]:\n",
    "                return True\n",
    "        return False"
   ]
  },
  {
   "cell_type": "code",
   "execution_count": null,
   "id": "7f3f1143",
   "metadata": {},
   "outputs": [],
   "source": []
  },
  {
   "cell_type": "code",
   "execution_count": null,
   "id": "414bff13",
   "metadata": {},
   "outputs": [],
   "source": []
  }
 ],
 "metadata": {
  "kernelspec": {
   "display_name": "Python 3 (ipykernel)",
   "language": "python",
   "name": "python3"
  },
  "language_info": {
   "codemirror_mode": {
    "name": "ipython",
    "version": 3
   },
   "file_extension": ".py",
   "mimetype": "text/x-python",
   "name": "python",
   "nbconvert_exporter": "python",
   "pygments_lexer": "ipython3",
   "version": "3.9.12"
  }
 },
 "nbformat": 4,
 "nbformat_minor": 5
}
