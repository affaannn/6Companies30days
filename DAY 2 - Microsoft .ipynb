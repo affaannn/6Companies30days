{
 "cells": [
  {
   "cell_type": "markdown",
   "id": "b730d2d7",
   "metadata": {},
   "source": [
    "# Rotate Function"
   ]
  },
  {
   "cell_type": "code",
   "execution_count": null,
   "id": "0fbab1ef",
   "metadata": {},
   "outputs": [],
   "source": [
    "class Solution(object):\n",
    "    def maxRotateFunction(self, nums):\n",
    "        n = len(nums)\n",
    "        max_sum = float('-inf')\n",
    "        for k in range(n):\n",
    "            sum = 0\n",
    "            for i, num in enumerate(nums):\n",
    "                sum += i * num\n",
    "            max_sum = max(max_sum, sum)\n",
    "            nums.insert(0, nums.pop())\n",
    "        return max_sum"
   ]
  },
  {
   "cell_type": "markdown",
   "id": "f1e58b54",
   "metadata": {},
   "source": [
    "# Largest Divisible Subset"
   ]
  },
  {
   "cell_type": "code",
   "execution_count": null,
   "id": "da24a1ff",
   "metadata": {},
   "outputs": [],
   "source": [
    "class Solution(object):\n",
    "    def largestDivisibleSubset(self, nums):\n",
    "        nums.sort(reverse=True)\n",
    "        result = []\n",
    "        for num in nums:\n",
    "            added = False\n",
    "            for i, divisor in enumerate(result):\n",
    "                if num % divisor == 0:\n",
    "                    result[i] = num\n",
    "                    added = True\n",
    "                    break\n",
    "            if not added:\n",
    "                result.append(num)\n",
    "        return result\n"
   ]
  },
  {
   "cell_type": "markdown",
   "id": "310e8001",
   "metadata": {},
   "source": [
    "# Perfect Rectangle"
   ]
  },
  {
   "cell_type": "code",
   "execution_count": null,
   "id": "62da108b",
   "metadata": {},
   "outputs": [],
   "source": [
    "class Solution(object):\n",
    "    def isRectangleCover(self, rectangles):\n",
    "        x_min = float('inf')\n",
    "        y_min = float('inf')\n",
    "        x_max = float('-inf')\n",
    "        y_max = float('-inf')\n",
    "        for rectangle in rectangles:\n",
    "            x_min = min(x_min, rectangle[0])\n",
    "            y_min = min(y_min, rectangle[1])\n",
    "            x_max = max(x_max, rectangle[2])\n",
    "            y_max = max(y_max, rectangle[3])\n",
    "        for rectangle in rectangles:\n",
    "            if rectangle[0] != x_min or rectangle[1] != y_min or rectangle[2] != x_max or rectangle[3] != y_max:\n",
    "                return False\n",
    "        return True"
   ]
  }
 ],
 "metadata": {
  "kernelspec": {
   "display_name": "Python 3 (ipykernel)",
   "language": "python",
   "name": "python3"
  },
  "language_info": {
   "codemirror_mode": {
    "name": "ipython",
    "version": 3
   },
   "file_extension": ".py",
   "mimetype": "text/x-python",
   "name": "python",
   "nbconvert_exporter": "python",
   "pygments_lexer": "ipython3",
   "version": "3.9.12"
  }
 },
 "nbformat": 4,
 "nbformat_minor": 5
}
