{
 "cells": [
  {
   "cell_type": "markdown",
   "id": "588bdb2a",
   "metadata": {},
   "source": [
    "# Course Schedule"
   ]
  },
  {
   "cell_type": "code",
   "execution_count": null,
   "id": "d7d07d36",
   "metadata": {},
   "outputs": [],
   "source": [
    "class Solution(object):\n",
    "    def dfs(node,prerequisites, stack, visited):\n",
    "        visited.add(node)\n",
    "        for neighbor in neighbors(node, prerequisites):\n",
    "            if neighbor not in visited:\n",
    "                if not dfs(neighbor, prerequisites, stack, visited):\n",
    "                    return False\n",
    "\n",
    "    # Push the node onto the stack\n",
    "        stack.append(node)\n",
    "        return True\n",
    "    def canFinish(self, numCourses, prerequisites):\n",
    "        stack = []\n",
    "        visited = set()\n",
    "\n",
    "    # Perform a depth-first search on each node in the graph\n",
    "        for node in range(numCourses):\n",
    "            if node not in visited:\n",
    "                if not dfs(node, prerequisites, stack, visited):\n",
    "                    return False\n",
    "\n",
    "        return True\n",
    "\n",
    "\n",
    "\n",
    "    def neighbors(node, prerequisites):\n",
    "        return [x[0] for x in prerequisites if x[1] == node]\n",
    "\n",
    "        "
   ]
  },
  {
   "cell_type": "markdown",
   "id": "9f544dc0",
   "metadata": {},
   "source": [
    "# Most Profitable Path in a Tree"
   ]
  },
  {
   "cell_type": "code",
   "execution_count": null,
   "id": "6c76ffa8",
   "metadata": {},
   "outputs": [],
   "source": [
    "def mostProfitablePath(self, edges: List[List[int]], bob: int, amount: List[int]) -> int:\n",
    "    adjList = defaultdict(list)\n",
    "    for u,v in edges :\n",
    "        adjList[u].append(v)\n",
    "        adjList[v].append(u)\n",
    "    \n",
    "    n = len(adjList)\n",
    "    time = [0]*n\n",
    "    time[bob] = 1\n",
    "    \n",
    "\t# dfs to calculate time to reach node from bob\n",
    "    def dfs1(node,par):\n",
    "        if node == bob :\n",
    "            return time[bob]\n",
    "        res = 0\n",
    "        for adj in adjList[node]:\n",
    "            if adj == par :\n",
    "                continue\n",
    "            flag = dfs1(adj,node)\n",
    "            if flag != 0  :\n",
    "                res = 1 + flag\n",
    "        time[node] = res\n",
    "        return time[node]\n",
    "    dfs1(0,None)\n",
    "    \n",
    "    \n",
    "    self.res = float(\"-inf\")\n",
    "    def dfs2(node,par,t,income):\n",
    "        for adj in adjList[node]:\n",
    "            if adj == par :\n",
    "                continue\n",
    "            newTime = t + 1\n",
    "            newIncome = income\n",
    "            if time[adj] == 0 or newTime < time[adj] :\n",
    "                newIncome += amount[adj]\n",
    "            elif newTime == time[adj] :\n",
    "                newIncome += amount[adj]//2\n",
    "            if len(adjList[adj]) == 1 :\n",
    "                self.res = max(self.res,newIncome)\n",
    "            dfs2(adj,node,newTime,newIncome)\n",
    "            \n",
    "    \n",
    "    dfs2(0,None,1,amount[0])\n",
    "    return self.res\n"
   ]
  },
  {
   "cell_type": "code",
   "execution_count": null,
   "id": "bd4a464d",
   "metadata": {},
   "outputs": [],
   "source": []
  },
  {
   "cell_type": "code",
   "execution_count": null,
   "id": "dfb7d2cb",
   "metadata": {},
   "outputs": [],
   "source": [
    "from sortedcontainers import SortedList\n",
    "class Solution:\n",
    "    def numberOfPairs(self, nums1, nums2, diff):\n",
    "        sl, ans = SortedList(), 0\n",
    "        for num1, num2 in zip(nums1, nums2):\n",
    "            ans += sl.bisect_right(num1 - num2 + diff)\n",
    "            sl.add(num1 - num2)\n",
    "        return ans"
   ]
  }
 ],
 "metadata": {
  "kernelspec": {
   "display_name": "Python 3 (ipykernel)",
   "language": "python",
   "name": "python3"
  },
  "language_info": {
   "codemirror_mode": {
    "name": "ipython",
    "version": 3
   },
   "file_extension": ".py",
   "mimetype": "text/x-python",
   "name": "python",
   "nbconvert_exporter": "python",
   "pygments_lexer": "ipython3",
   "version": "3.9.12"
  }
 },
 "nbformat": 4,
 "nbformat_minor": 5
}
