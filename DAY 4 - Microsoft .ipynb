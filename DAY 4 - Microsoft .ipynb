{
 "cells": [
  {
   "cell_type": "markdown",
   "id": "b04fb7f0",
   "metadata": {},
   "source": [
    "# Shortest Unsorted Continuous Subarray"
   ]
  },
  {
   "cell_type": "code",
   "execution_count": null,
   "id": "ce178929",
   "metadata": {},
   "outputs": [],
   "source": [
    "class Solution(object):\n",
    "    def findUnsortedSubarray(self, nums):\n",
    "        if len(nums) <2:\n",
    "            return 0\n",
    "        \n",
    "        prev = nums[0]\n",
    "        end = 0\n",
    "        for i in range(0, len(nums)):\n",
    "            if nums[i] < prev:\n",
    "                end = i\n",
    "            else:\n",
    "                prev = nums[i]\n",
    "\n",
    "        strt = len(nums) - 1\n",
    "        prev = nums[strt]\n",
    "        for i in range(len(nums)-1, -1, -1):\n",
    "            if prev < nums[i]:\n",
    "                strt = i\n",
    "            else:\n",
    "                prev = nums[i]\n",
    "        if end != 0:\n",
    "            return end - strt + 1\n",
    "        else: \n",
    "            return 0"
   ]
  },
  {
   "cell_type": "markdown",
   "id": "0217a15f",
   "metadata": {},
   "source": [
    "# Number of Ways to Arrive at Destination"
   ]
  },
  {
   "cell_type": "code",
   "execution_count": null,
   "id": "6aabe5ff",
   "metadata": {},
   "outputs": [],
   "source": [
    "class Solution:\n",
    "    def countPaths(self, n, roads):\n",
    "        G = defaultdict(list)\n",
    "        for i, j, k in roads:\n",
    "            G[i].append((j, k))\n",
    "            G[j].append((i, k))\n",
    "\n",
    "        dist = [float('inf')] * n\n",
    "        dist[0] = 0\n",
    "        cnt = [0]*n\n",
    "        cnt[0] = 1\n",
    "        heap = [(0, 0)]\n",
    "\n",
    "        while heap:\n",
    "            (min_dist, idx) = heappop(heap)\n",
    "            if idx == n-1: return cnt[idx] % (10**9 + 7)\n",
    "            for neib, weight in G[idx]:\n",
    "                candidate = min_dist + weight\n",
    "                if candidate == dist[neib]:\n",
    "                    cnt[neib] += cnt[idx]\n",
    "\n",
    "                elif candidate < dist[neib]:\n",
    "                    dist[neib] = candidate\n",
    "                    heappush(heap, (weight + min_dist, neib))\n",
    "                    cnt[neib] = cnt[idx]"
   ]
  },
  {
   "cell_type": "markdown",
   "id": "466efabe",
   "metadata": {},
   "source": [
    "# Longest Happy Prefix"
   ]
  },
  {
   "cell_type": "code",
   "execution_count": null,
   "id": "968e9e37",
   "metadata": {},
   "outputs": [],
   "source": [
    "class Solution(object):\n",
    "    def longestPrefix(self, s):\n",
    "        longest_happy_prefix = \"\"\n",
    "        for i, c in enumerate(s):\n",
    "            if s[i:] == s[:len(s) - i]:\n",
    "                longest_happy_prefix = s[i:]\n",
    "        return longest_happy_prefix"
   ]
  }
 ],
 "metadata": {
  "kernelspec": {
   "display_name": "Python 3 (ipykernel)",
   "language": "python",
   "name": "python3"
  },
  "language_info": {
   "codemirror_mode": {
    "name": "ipython",
    "version": 3
   },
   "file_extension": ".py",
   "mimetype": "text/x-python",
   "name": "python",
   "nbconvert_exporter": "python",
   "pygments_lexer": "ipython3",
   "version": "3.9.12"
  }
 },
 "nbformat": 4,
 "nbformat_minor": 5
}
