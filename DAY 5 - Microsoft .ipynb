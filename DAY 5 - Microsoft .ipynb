{
 "cells": [
  {
   "cell_type": "markdown",
   "id": "74b68a3c",
   "metadata": {},
   "source": [
    "# Airplane Seat Assignment Probability"
   ]
  },
  {
   "cell_type": "code",
   "execution_count": null,
   "id": "81ad8227",
   "metadata": {},
   "outputs": [],
   "source": [
    "class Solution:\n",
    "    def nthPersonGetsNthSeat(self, n):\n",
    "        x = [0.0] * n\n",
    "        x[0] = 1\n",
    "        if n >= 2:\n",
    "            x[1] = 1/2\n",
    "        for i in range(2, n+1):\n",
    "            x[i-1] = 1/i + (i-2) * x[i-2] / i\n",
    "        return x[n-1]"
   ]
  },
  {
   "cell_type": "markdown",
   "id": "67c4a45c",
   "metadata": {},
   "source": [
    "# Minimum Deletions to Make Array Divisible"
   ]
  },
  {
   "cell_type": "code",
   "execution_count": 1,
   "id": "a99837cd",
   "metadata": {},
   "outputs": [],
   "source": [
    "class Solution(object):\n",
    "    def minOperations(self,nums, numsDivide):\n",
    "        min_num = min(nums)\n",
    "        deletions = 0\n",
    "        i = 0\n",
    "        while i < len(numsDivide):\n",
    "            if numsDivide[i] % min_num == 0:\n",
    "                i += 1\n",
    "            else:\n",
    "                del numsDivide[i]\n",
    "                deletions += 1\n",
    "        if len(numsDivide) == 0:\n",
    "            return deletions\n",
    "        for num in numsDivide:\n",
    "            if all(num % x == 0 for x in numsDivide if x != num):\n",
    "                return deletions\n",
    "        return -1\n"
   ]
  },
  {
   "cell_type": "markdown",
   "id": "8f5b25da",
   "metadata": {},
   "source": [
    "# Number of Substrings Containing All Three Characters"
   ]
  },
  {
   "cell_type": "code",
   "execution_count": null,
   "id": "459f8446",
   "metadata": {},
   "outputs": [],
   "source": [
    "class Solution(object):\n",
    "    def numberOfSubstrings(self, s):\n",
    "        ans, end = 0, [-1] * 3\n",
    "        for i, j in enumerate(s):\n",
    "            end[ord(j) - 97] = i\n",
    "            ans += 1 + min(end)\n",
    "        return ans"
   ]
  }
 ],
 "metadata": {
  "kernelspec": {
   "display_name": "Python 3 (ipykernel)",
   "language": "python",
   "name": "python3"
  },
  "language_info": {
   "codemirror_mode": {
    "name": "ipython",
    "version": 3
   },
   "file_extension": ".py",
   "mimetype": "text/x-python",
   "name": "python",
   "nbconvert_exporter": "python",
   "pygments_lexer": "ipython3",
   "version": "3.9.12"
  }
 },
 "nbformat": 4,
 "nbformat_minor": 5
}
